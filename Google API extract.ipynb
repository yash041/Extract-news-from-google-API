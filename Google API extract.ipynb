{
 "cells": [
  {
   "cell_type": "code",
   "execution_count": null,
   "metadata": {},
   "outputs": [],
   "source": [
    "import requests\n",
    "url = ('https://newsapi.org/v2/top-headlines?'\n",
    "       'country=us&'\n",
    "       'apiKey=bd5457d892934ceda9a1b2a00206ec39')\n",
    "response = requests.get(url)\n",
    "print response.json()"
   ]
  },
  {
   "cell_type": "code",
   "execution_count": 141,
   "metadata": {},
   "outputs": [
    {
     "name": "stdout",
     "output_type": "stream",
     "text": [
      "{u'status': u'ok', u'articles': [{u'description': u'American travelers headed to London can now jump the customs line at Heathrow and use the electronic passport gates at the border, just like the locals. The gates were previously reserved exclusively for European citizens. Read more...', u'title': u'Now U.S. Citizens Can Jump the Epically Long Customs Line in London', u'url': u'https://lifehacker.com/now-u-s-citizens-can-jump-the-epically-long-customs-li-1830091221', u'author': u'Emily Price', u'publishedAt': u'2018-10-30T14:15:00Z', u'content': u'American travelers headed to London can now jump the customs line at Heathrow and use the electronic passport gates at the border, just like the locals. The gates were previously reserved exclusively for European citizens. The privilege also extends to Canadi\\u2026 [+869 chars]', u'source': {u'id': None, u'name': u'Lifehacker.com'}, u'urlToImage': u'https://i.kinja-img.com/gawker-media/image/upload/s--8USgKK8B--/c_fill,fl_progressive,g_center,h_900,q_80,w_1600/kugpr2bwapxm5gag58cy.jpg'}, {u'description': u'The head of Harvard\\u2019s department of astronomy thinks that there\\u2019s a possibility that a strange object that visited our Solar System from interstellar space may be an alien probe sent from a distant civilization. He and a colleague outlined their idea in a pap\\u2026', u'title': u'Why we shouldn\\u2019t cry \\u2018aliens\\u2019 about that interstellar space rock just yet', u'url': u'https://www.theverge.com/2018/11/6/18068100/harvard-oumuamua-interstellar-comet-alien-civilization-light-sail', u'author': u'Loren Grush', u'publishedAt': u'2018-11-06T19:12:06Z', u'content': u'The head of Harvard\\u2019s department of astronomy thinks that there\\u2019s a possibility that a strange object that visited our Solar System from interstellar space may be an alien probe sent from a distant civilization. He and a colleague outlined their idea in a pap\\u2026 [+9261 chars]', u'source': {u'id': u'the-verge', u'name': u'The Verge'}, u'urlToImage': u'https://cdn.vox-cdn.com/thumbor/cm_viZCz64fCo8krCFcgbOs6U2M=/0x65:1280x735/fit-in/1200x630/cdn.vox-cdn.com/uploads/chorus_asset/file/13397267/eso1737a.jpg'}, {u'description': u'A major new campaign of disinformation around Brexit, designed to stir up UK \\u2018Leave\\u2019 voters, and distributed via Facebook, may have reached over 10 million people in the UK, according to new research. The source of the campaign is so far unknown, and will be \\u2026', u'title': u'New \\u2018Dark Ads\\u2019 pro-Brexit Facebook campaign may have reached over 10M people, say researchers', u'url': u'http://techcrunch.com/2018/10/19/new-dark-ads-pro-brexit-facebook-campaign-may-have-reached-over-10m-people-say-researchers/', u'author': u'Mike Butcher', u'publishedAt': u'2018-10-19T23:05:37Z', u'content': u'A major new campaign of disinformation around Brexit, designed to stir up UK \\u2018Leave\\u2019 voters, and distributed via Facebook, may have reached over 10 million people in the UK, according to new research. The source of the campaign is so far unknown, and will be \\u2026 [+5275 chars]', u'source': {u'id': u'techcrunch', u'name': u'TechCrunch'}, u'urlToImage': u'https://techcrunch.com/wp-content/uploads/2018/10/pasted-image-0-1.png?w=450'}, {u'description': u'A lot of uncertainty hangs over the UK as continues its slow march out of the European Union, but today one of the world\\u2019s biggest companies announced plans to expand its presence in the country. Amazon today said it would add another 1,000 workers in the UK,\\u2026', u'title': u'Amazon says it will add 1,000 more employees in the UK, bringing the total to 28,500, bucking the Brexit chill', u'url': u'http://techcrunch.com/2018/10/18/amazon-europe/', u'author': u'Ingrid Lunden', u'publishedAt': u'2018-10-18T21:11:50Z', u'content': u'A lot of uncertainty hangs over the UK as continues its slow march out of the European Union, but today one of the world\\u2019s biggest companies announced plans to expand its presence in the country. Amazon today said it would add another 1,000 workers in the UK,\\u2026 [+3099 chars]', u'source': {u'id': u'techcrunch', u'name': u'TechCrunch'}, u'urlToImage': u'https://techcrunch.com/wp-content/uploads/2016/07/gettyimages-521186348.jpg?w=600'}, {u'description': u'The U.K. Information Commissioner\\u2019s Office (ICO) has confirmed that it has hit Facebook with a maximum $500,000 ($645,000) fine around the way it mishandled user data following the Cambridge Analytica scandal earlier this year. The ICO announced its intention\\u2026', u'title': u'UK watchdog hands Facebook maximum $500K fine over Cambridge Analytica data breach', u'url': u'http://techcrunch.com/2018/10/25/uk-watchdog-hands-facebook-500k-fine/', u'author': u'Jon Russell', u'publishedAt': u'2018-10-25T09:12:47Z', u'content': u'The U.K. Information Commissioners Office (ICO) has confirmed that it has hit Facebook with a maximum $500,000 ($645,000) fine around the way it mishandled user data following the Cambridge Analytica scandal earlier this year. The ICO announced its intention \\u2026 [+2606 chars]', u'source': {u'id': u'techcrunch', u'name': u'TechCrunch'}, u'urlToImage': u'https://techcrunch.com/wp-content/uploads/2018/09/gettyimages-48786726811.jpg?w=618'}, {u'description': u'The UK government has announced a new \\u201cdigital services\\u201d tax of two percent that it plans to start levying on the UK revenues of tech giants like Amazon, Google and Apple based on the money they make on digital services like advertising and streaming entertai\\u2026', u'title': u'UK chancellor announces 2% \\u2018digital services tax\\u2019 on tech giants\\u2019 revenues starting in April 2020', u'url': u'http://techcrunch.com/2018/10/29/uk-chancellor-announces-2-digital-services-tax-on-tech-giants-revenues-starting-in-april-2020/', u'author': u'Ingrid Lunden', u'publishedAt': u'2018-10-29T17:08:22Z', u'content': u'The UK government has announced a new \\u201cdigital services\\u201d tax of two percent that it plans to start levying on the UK revenues of tech giants like Amazon, Google and Apple based on the money they make on digital services like advertising and streaming entertai\\u2026 [+3172 chars]', u'source': {u'id': u'techcrunch', u'name': u'TechCrunch'}, u'urlToImage': u'https://techcrunch.com/wp-content/uploads/2015/05/16164233084_7f9e0cd5fb_k.jpg?w=601'}, {u'description': u'An app that the UK\\u2019s governing party launched last year \\u2014 for Conservative Party activists to gamify, \\u2018socialize\\u2019 and co-ordinate their campaigning activity \\u2014 has been quietly pulled from app stores. Its vanishing was flagged to us earlier today, by Twitter u\\u2026', u'title': u'Campaign tool supplied to UK\\u2019s governing party by Trump-Pence app dev quietly taken out of service', u'url': u'http://techcrunch.com/2018/11/01/campaign-tool-supplied-to-uks-governing-party-by-trump-pence-app-dev-quietly-taken-out-of-service/', u'author': u'Natasha Lomas', u'publishedAt': u'2018-11-01T18:25:59Z', u'content': u'An app that the UK\\u2019s governing party launched last year \\u2014 for Conservative Party activists to gamify, \\u2018socialize\\u2019 and co-ordinate their campaigning activity \\u2014 has been quietly pulled from app stores. Its vanishing was flagged to us earlier today, by Twitter u\\u2026 [+9589 chars]', u'source': {u'id': u'techcrunch', u'name': u'TechCrunch'}, u'urlToImage': u'https://techcrunch.com/wp-content/uploads/2018/11/Screen-Shot-2018-11-01-at-19.02.56.png?w=534'}, {u'description': u'Tiffany Olson Kleemann Contributor Tiffany Olson Kleemann is the chief executive officer of Distil Networks. She formerly served in executive roles at Symantec and FireEye and was deputy chief of staff for cybersecurity operations under President George W. Bu\\u2026', u'title': u'Bots Distorted the 2016 Election. Will the Midterms Be a Sequel?', u'url': u'http://techcrunch.com/2018/11/05/midterm-elections-battle-bots/', u'author': u'Jonathan Shieber', u'publishedAt': u'2018-11-06T01:30:01Z', u'content': u'The fact that Russian-linked bots penetrated social media to influence the 2016 U.S. presidential election has been well documented and the details of the deception are still trickling out. In fact, on Oct. 17 Twitter disclosed that foreign interference datin\\u2026 [+5896 chars]', u'source': {u'id': u'techcrunch', u'name': u'TechCrunch'}, u'urlToImage': u'https://techcrunch.com/wp-content/uploads/2018/07/Election-Interference-Events.jpg?w=753'}, {u'description': u'With the US midterms fast approaching purveyors of online disinformation are very busy indeed spreading their hyper-partisan junk on Facebook. Their goal: Skewing democratic outcomes by putting out misleading, deceptive or incorrect information that\\u2019s package\\u2026', u'title': u'Tool up for the midterms with this Facebook junk news aggregator', u'url': u'http://techcrunch.com/2018/11/01/tool-up-for-the-midterms-with-this-facebook-junk-news-aggregator/', u'author': u'Natasha Lomas', u'publishedAt': u'2018-11-01T16:20:16Z', u'content': u'With the US midterms fast approaching purveyors of online disinformation are very busy indeed spreading their hyper-partisan junk on Facebook. Their goal: Skewing democratic outcomes by putting out misleading, deceptive or incorrect information that\\u2019s package\\u2026 [+7091 chars]', u'source': {u'id': u'techcrunch', u'name': u'TechCrunch'}, u'urlToImage': u'https://techcrunch.com/wp-content/uploads/2018/11/Screen-Shot-2018-11-01-at-14.59.52.png?w=764'}, {u'description': u'An analysis of political advertisers running extensive campaigns on Facebook targeting users in the United States over the past six months has flagged a raft of fresh concerns about its efforts to tackle election interference \\u2014 suggesting the social network\\u2019s\\u2026', u'title': u'Facebook\\u2019s election interference problem exponentially worse on eve of midterms, study suggests', u'url': u'http://techcrunch.com/2018/11/05/facebooks-election-interference-problem-exponentially-worse-on-eve-of-midterms-study-suggests/', u'author': u'Natasha Lomas', u'publishedAt': u'2018-11-05T15:45:39Z', u'content': u'An analysis of political advertisers running extensive campaigns on Facebook targeting users in the United States over the past six months has flagged a raft of fresh concerns about its efforts to tackle election interference \\u2014 suggesting the social network\\u2019s\\u2026 [+15885 chars]', u'source': {u'id': u'techcrunch', u'name': u'TechCrunch'}, u'urlToImage': u'https://techcrunch.com/wp-content/uploads/2018/04/gettyimages-944204706.jpeg?w=601'}, {u'description': u'Facebook has hired Nick Clegg, the former UK deputy prime minister, as head of global affairs and communications. Clegg isn\\u2019t very well-regarded in his home country, but Facebook apparently feels he\\u2019s the man for the job at a time when its influence over poli\\u2026', u'title': u'Facebook Hires Former UK Deputy Prime Minister to Head Up Its Political Influence', u'url': u'https://gizmodo.com/facebook-hires-former-uk-deputy-prime-minister-to-head-1829866203', u'author': u'Rhett Jones', u'publishedAt': u'2018-10-19T18:00:00Z', u'content': u'Facebook has hired Nick Clegg, the former UK deputy prime minister, as head of global affairs and communications. Clegg isnt very well-regarded in his home country, but Facebook apparently feels hes the man for the job at a time when its influence over politi\\u2026 [+2854 chars]', u'source': {u'id': None, u'name': u'Gizmodo.com'}, u'urlToImage': u'https://i.kinja-img.com/gawker-media/image/upload/s--HVRHPBrb--/c_fill,fl_progressive,g_center,h_900,q_80,w_1600/q7qjyllcjihb7h8vobbz.jpg'}, {u'description': u'Some people are warning of possible food rationing, medicine shortages and civil disorder if no deal is struck with the European Union. Brexit supporters call that fear-mongering.', u'title': u'U.K.\\u2019s \\u2018Brexit Preppers\\u2019 Stock Up on Supplies, Preparing for E.U. Exit', u'url': u'https://www.nytimes.com/2018/10/16/world/europe/brexit-preppers-united-kingdom.html', u'author': u'STEPHEN CASTLE', u'publishedAt': u'2018-10-16T14:12:09Z', u'content': u'When Howard Hardiman, an artist who lives on a remote Scottish island, wrote on Twitter that he was stockpiling because he lives at the end of the supply chain, he drew abuse online from supporters of Britains departure from the bloc. The government has repea\\u2026 [+1843 chars]', u'source': {u'id': u'the-new-york-times', u'name': u'The New York Times'}, u'urlToImage': u'https://static01.nyt.com/images/2018/10/16/world/europe/16Prepper1/16Prepper1-facebookJumbo.jpg'}, {u'description': u'Here\\u2019s what you need to know to start your day.', u'title': u'Europe Edition: Saudi Arabia, Brexit, Meghan Markle: Your Tuesday Briefing', u'url': u'https://www.nytimes.com/2018/10/16/briefing/saudi-arabia-brexit-meghan-markle.html', u'author': u'PENN BULLOCK', u'publishedAt': u'2018-10-16T04:24:02Z', u'content': u'But good news from Belgium: Pierre Kompany, 71, was elected the countrys first black mayor. [ The New York Times ] The results of a state election in Bavaria may worry Chancellor Angela Merkel of Germany, but analysts say they signal a healthy democracy. [ Th\\u2026 [+799 chars]', u'source': {u'id': u'the-new-york-times', u'name': u'The New York Times'}, u'urlToImage': u'https://static01.nyt.com/images/2018/10/16/briefing/10162018ameuro-briefing-promo/10162018ameuro-briefing-slide-BOEA-facebookJumbo.jpg'}, {u'description': u'Here\\u2019s what you need to know to start your day.', u'title': u'Europe Edition: Bavaria, Saudi Arabia, Brexit: Your Monday Briefing', u'url': u'https://www.nytimes.com/2018/10/15/briefing/bavaria-saudi-arabia-brexit.html', u'author': u'PENN BULLOCK', u'publishedAt': u'2018-10-15T05:45:54Z', u'content': u'Pope Francis canonized seven new saints, including Archbishop \\xd3scar Romero, in portrait above left, who was gunned down in El Salvador by a right-wing death squad 38 years ago, and Pope Paul VI, above right, who is credited with modernizing the church in the \\u2026 [+874 chars]', u'source': {u'id': u'the-new-york-times', u'name': u'The New York Times'}, u'urlToImage': u'https://static01.nyt.com/images/2018/10/15/briefing/101518briefing-europe-promo/101518briefing-europe-promo-facebookJumbo.jpg'}, {u'description': u\"In this day and age, you don't need a place in a TV-debate to get your point across. As long as you make sure you're in shot when a famous politician is making a statement, you can let your facial expressions do the talking. SEE ALSO: Meet Aaron Gouveia, the \\u2026\", u'title': u'Student rolls her eyes behind politician during TV debate, goes super viral', u'url': u'https://mashable.com/article/eye-roll-student-nigel-farage-brexit/', u'author': u'Laura Byager', u'publishedAt': u'2018-11-06T12:45:15Z', u'content': u\"In this day and age, you don't need a place in a TV-debate to get your point across. As long as you make sure you're in shot when a famous politician is making a statement, you can let your facial expressions do the talking. SEE ALSO: Meet Aaron Gouveia, the \\u2026 [+1849 chars]\", u'source': {u'id': u'mashable', u'name': u'Mashable'}, u'urlToImage': u'https://i.amz.mshcdn.com/JSEjKE1xJfiyvEptBgbakw9bXbA=/1200x630/2018%2F11%2F06%2Fd4%2Fc276603e62304007885696c41181f6af.ba2ae.jpg'}, {u'description': u'Here\\u2019s what you need to know to start your day.', u'title': u'Europe Edition: Elections, Brexit, Facebook: Your Wednesday Briefing', u'url': u'https://www.nytimes.com/2018/11/07/briefing/elections-brexit-facebook.html', u'author': u'PENN BULLOCK', u'publishedAt': u'2018-11-07T05:44:10Z', u'content': u'We finally reviewed the 1978 horror classic Halloween last month, which got us thinking about the newspaper strike in New York City that prevented coverage of the movies release at the time. Forty years ago, The New York Times was just resuming publication af\\u2026 [+1183 chars]', u'source': {u'id': u'the-new-york-times', u'name': u'The New York Times'}, u'urlToImage': u'https://static01.nyt.com/images/2018/11/08/autossell/08EURO2-promo/merlin_146435796_536941e3-fe64-43b9-a30c-13f386aae1ee-facebookJumbo.jpg'}, {u'description': u'Here\\u2019s what you need to know to start your day.', u'title': u'Europe Edition: Saudi Arabia, Brexit, Anna Burns: Your Wednesday Briefing', u'url': u'https://www.nytimes.com/2018/10/17/briefing/saudi-arabia-brexit-anna-burns.html', u'author': u'PENN BULLOCK', u'publishedAt': u'2018-10-17T04:07:50Z', u'content': u'But Murray was also a poet, and today is Black Poetry Day, observed by many schools and libraries in the U.S. Orphaned young and raised by an aunt in Durham, North Carolina, Murray grew up reading Paul Laurence Dunbar, one of the first famous African-American\\u2026 [+1043 chars]', u'source': {u'id': u'the-new-york-times', u'name': u'The New York Times'}, u'urlToImage': u'https://static01.nyt.com/images/2018/10/16/briefing/10172018Briefing-asia-promo/17Briefing-asia-slide-SSQ3-facebookJumbo.jpg'}, {u'description': u'Here\\u2019s what you need to know to start your day.', u'title': u'Europe Edition: President Trump, Saudi Arabia, Brexit: Your Friday Briefing', u'url': u'https://www.nytimes.com/2018/11/02/briefing/president-trump-saudi-arabia-brexit.html', u'author': u'PENN BULLOCK', u'publishedAt': u'2018-11-02T05:14:38Z', u'content': u'North Korean women who work in the countrys growing markets are often preyed on by officials demanding sexual favors, Human Rights Watch researchers found. Above, a silk factory in Pyongyang. [ The New York Times ] The British police are investigating whether\\u2026 [+1080 chars]', u'source': {u'id': u'the-new-york-times', u'name': u'The New York Times'}, u'urlToImage': u'https://static01.nyt.com/images/2018/11/02/briefing/11022018-ambriefing-euro-slide-GLUX/11022018-ambriefing-euro-slide-GLUX-facebookJumbo.jpg'}, {u'description': u'An installation view of \\u201cSarah Lucas: Au Naturel\\u201d at the New Museum. The wall-size images convey the artist\\u2019s swagger, bravado and confidence, and \\u201cThis Jaguar\\u2019s Going to Heaven\\u201d (2018), foreground, consists of a severed 2003 Jaguar X-Type collaged with cigar\\u2026', u'title': u'Critic\\u2019s Pick: Is Sarah Lucas Right for the #MeToo Moment?', u'url': u'https://www.nytimes.com/2018/10/16/arts/design/sarah-lucas-review-new-museum-art.html', u'author': u'MARTHA SCHWENDENER', u'publishedAt': u'2018-10-16T19:41:03Z', u'content': u'In this era, post-Brexit, when thousands of people have died in recent years attempting to reach the safety of shabby London or any toehold in Western Europe the message here, of being white and bored and disaffected, feels dissonant. A video made in 2015, wh\\u2026 [+1378 chars]', u'source': {u'id': u'the-new-york-times', u'name': u'The New York Times'}, u'urlToImage': u'https://static01.nyt.com/images/2018/10/19/arts/19sarahlucas1/19sarahlucas1-facebookJumbo.jpg'}, {u'description': u'Hear tracks from Maggie Rogers, Julia Holter, Tyler, the Creator and others.', u'title': u'Playlist: The Playlist: Cardi B Hits Pay Dirt, and 11 More New Songs', u'url': u'https://www.nytimes.com/2018/10/26/arts/music/playlist-cardi-b-lauren-jauregui-xxxtentacion-lil-pump.html', u'author': u'JON PARELES, JON CARAMANICA and GIOVANNI RUSSONELLO', u'publishedAt': u'2018-10-26T16:29:35Z', u'content': u'Cardi B released Money, her first solo song since giving birth in July. Credit Valerie Macon/Agence France-Presse Getty Images Whats the opposite of a palate cleanser? Currently, Cardi B is featured on the No. 1 song in the country, Maroon 5s Girls Like You. \\u2026 [+6897 chars]', u'source': {u'id': u'the-new-york-times', u'name': u'The New York Times'}, u'urlToImage': u'https://static01.nyt.com/images/2018/10/27/arts/27playlist/merlin_145092255_160506fb-a0e3-4473-b18d-1886214703f6-facebookJumbo.jpg'}], u'totalResults': 25710}\n"
     ]
    }
   ],
   "source": [
    "import requests\n",
    "\n",
    "url = ('https://newsapi.org/v2/everything?'\n",
    "       'q=Brexit&'\n",
    "       'from=2018-10-15&'\n",
    "       'sortBy=popularity&'\n",
    "       'apiKey=bd5457d892934ceda9a1b2a00206ec39')\n",
    "\n",
    "response = requests.get(url)\n",
    "\n",
    "print response.json()"
   ]
  },
  {
   "cell_type": "code",
   "execution_count": 102,
   "metadata": {},
   "outputs": [],
   "source": [
    "import pandas as pd"
   ]
  },
  {
   "cell_type": "code",
   "execution_count": 126,
   "metadata": {},
   "outputs": [],
   "source": [
    "import json"
   ]
  },
  {
   "cell_type": "code",
   "execution_count": 142,
   "metadata": {},
   "outputs": [
    {
     "name": "stdout",
     "output_type": "stream",
     "text": [
      "{u'status': u'ok', u'articles': [{u'description': u'American travelers headed to London can now jump the customs line at Heathrow and use the electronic passport gates at the border, just like the locals. The gates were previously reserved exclusively for European citizens. Read more...', u'title': u'Now U.S. Citizens Can Jump the Epically Long Customs Line in London', u'url': u'https://lifehacker.com/now-u-s-citizens-can-jump-the-epically-long-customs-li-1830091221', u'author': u'Emily Price', u'publishedAt': u'2018-10-30T14:15:00Z', u'content': u'American travelers headed to London can now jump the customs line at Heathrow and use the electronic passport gates at the border, just like the locals. The gates were previously reserved exclusively for European citizens. The privilege also extends to Canadi\\u2026 [+869 chars]', u'source': {u'id': None, u'name': u'Lifehacker.com'}, u'urlToImage': u'https://i.kinja-img.com/gawker-media/image/upload/s--8USgKK8B--/c_fill,fl_progressive,g_center,h_900,q_80,w_1600/kugpr2bwapxm5gag58cy.jpg'}, {u'description': u'The head of Harvard\\u2019s department of astronomy thinks that there\\u2019s a possibility that a strange object that visited our Solar System from interstellar space may be an alien probe sent from a distant civilization. He and a colleague outlined their idea in a pap\\u2026', u'title': u'Why we shouldn\\u2019t cry \\u2018aliens\\u2019 about that interstellar space rock just yet', u'url': u'https://www.theverge.com/2018/11/6/18068100/harvard-oumuamua-interstellar-comet-alien-civilization-light-sail', u'author': u'Loren Grush', u'publishedAt': u'2018-11-06T19:12:06Z', u'content': u'The head of Harvard\\u2019s department of astronomy thinks that there\\u2019s a possibility that a strange object that visited our Solar System from interstellar space may be an alien probe sent from a distant civilization. He and a colleague outlined their idea in a pap\\u2026 [+9261 chars]', u'source': {u'id': u'the-verge', u'name': u'The Verge'}, u'urlToImage': u'https://cdn.vox-cdn.com/thumbor/cm_viZCz64fCo8krCFcgbOs6U2M=/0x65:1280x735/fit-in/1200x630/cdn.vox-cdn.com/uploads/chorus_asset/file/13397267/eso1737a.jpg'}, {u'description': u'A major new campaign of disinformation around Brexit, designed to stir up UK \\u2018Leave\\u2019 voters, and distributed via Facebook, may have reached over 10 million people in the UK, according to new research. The source of the campaign is so far unknown, and will be \\u2026', u'title': u'New \\u2018Dark Ads\\u2019 pro-Brexit Facebook campaign may have reached over 10M people, say researchers', u'url': u'http://techcrunch.com/2018/10/19/new-dark-ads-pro-brexit-facebook-campaign-may-have-reached-over-10m-people-say-researchers/', u'author': u'Mike Butcher', u'publishedAt': u'2018-10-19T23:05:37Z', u'content': u'A major new campaign of disinformation around Brexit, designed to stir up UK \\u2018Leave\\u2019 voters, and distributed via Facebook, may have reached over 10 million people in the UK, according to new research. The source of the campaign is so far unknown, and will be \\u2026 [+5275 chars]', u'source': {u'id': u'techcrunch', u'name': u'TechCrunch'}, u'urlToImage': u'https://techcrunch.com/wp-content/uploads/2018/10/pasted-image-0-1.png?w=450'}, {u'description': u'A lot of uncertainty hangs over the UK as continues its slow march out of the European Union, but today one of the world\\u2019s biggest companies announced plans to expand its presence in the country. Amazon today said it would add another 1,000 workers in the UK,\\u2026', u'title': u'Amazon says it will add 1,000 more employees in the UK, bringing the total to 28,500, bucking the Brexit chill', u'url': u'http://techcrunch.com/2018/10/18/amazon-europe/', u'author': u'Ingrid Lunden', u'publishedAt': u'2018-10-18T21:11:50Z', u'content': u'A lot of uncertainty hangs over the UK as continues its slow march out of the European Union, but today one of the world\\u2019s biggest companies announced plans to expand its presence in the country. Amazon today said it would add another 1,000 workers in the UK,\\u2026 [+3099 chars]', u'source': {u'id': u'techcrunch', u'name': u'TechCrunch'}, u'urlToImage': u'https://techcrunch.com/wp-content/uploads/2016/07/gettyimages-521186348.jpg?w=600'}, {u'description': u'The U.K. Information Commissioner\\u2019s Office (ICO) has confirmed that it has hit Facebook with a maximum $500,000 ($645,000) fine around the way it mishandled user data following the Cambridge Analytica scandal earlier this year. The ICO announced its intention\\u2026', u'title': u'UK watchdog hands Facebook maximum $500K fine over Cambridge Analytica data breach', u'url': u'http://techcrunch.com/2018/10/25/uk-watchdog-hands-facebook-500k-fine/', u'author': u'Jon Russell', u'publishedAt': u'2018-10-25T09:12:47Z', u'content': u'The U.K. Information Commissioners Office (ICO) has confirmed that it has hit Facebook with a maximum $500,000 ($645,000) fine around the way it mishandled user data following the Cambridge Analytica scandal earlier this year. The ICO announced its intention \\u2026 [+2606 chars]', u'source': {u'id': u'techcrunch', u'name': u'TechCrunch'}, u'urlToImage': u'https://techcrunch.com/wp-content/uploads/2018/09/gettyimages-48786726811.jpg?w=618'}, {u'description': u'The UK government has announced a new \\u201cdigital services\\u201d tax of two percent that it plans to start levying on the UK revenues of tech giants like Amazon, Google and Apple based on the money they make on digital services like advertising and streaming entertai\\u2026', u'title': u'UK chancellor announces 2% \\u2018digital services tax\\u2019 on tech giants\\u2019 revenues starting in April 2020', u'url': u'http://techcrunch.com/2018/10/29/uk-chancellor-announces-2-digital-services-tax-on-tech-giants-revenues-starting-in-april-2020/', u'author': u'Ingrid Lunden', u'publishedAt': u'2018-10-29T17:08:22Z', u'content': u'The UK government has announced a new \\u201cdigital services\\u201d tax of two percent that it plans to start levying on the UK revenues of tech giants like Amazon, Google and Apple based on the money they make on digital services like advertising and streaming entertai\\u2026 [+3172 chars]', u'source': {u'id': u'techcrunch', u'name': u'TechCrunch'}, u'urlToImage': u'https://techcrunch.com/wp-content/uploads/2015/05/16164233084_7f9e0cd5fb_k.jpg?w=601'}, {u'description': u'An app that the UK\\u2019s governing party launched last year \\u2014 for Conservative Party activists to gamify, \\u2018socialize\\u2019 and co-ordinate their campaigning activity \\u2014 has been quietly pulled from app stores. Its vanishing was flagged to us earlier today, by Twitter u\\u2026', u'title': u'Campaign tool supplied to UK\\u2019s governing party by Trump-Pence app dev quietly taken out of service', u'url': u'http://techcrunch.com/2018/11/01/campaign-tool-supplied-to-uks-governing-party-by-trump-pence-app-dev-quietly-taken-out-of-service/', u'author': u'Natasha Lomas', u'publishedAt': u'2018-11-01T18:25:59Z', u'content': u'An app that the UK\\u2019s governing party launched last year \\u2014 for Conservative Party activists to gamify, \\u2018socialize\\u2019 and co-ordinate their campaigning activity \\u2014 has been quietly pulled from app stores. Its vanishing was flagged to us earlier today, by Twitter u\\u2026 [+9589 chars]', u'source': {u'id': u'techcrunch', u'name': u'TechCrunch'}, u'urlToImage': u'https://techcrunch.com/wp-content/uploads/2018/11/Screen-Shot-2018-11-01-at-19.02.56.png?w=534'}, {u'description': u'Tiffany Olson Kleemann Contributor Tiffany Olson Kleemann is the chief executive officer of Distil Networks. She formerly served in executive roles at Symantec and FireEye and was deputy chief of staff for cybersecurity operations under President George W. Bu\\u2026', u'title': u'Bots Distorted the 2016 Election. Will the Midterms Be a Sequel?', u'url': u'http://techcrunch.com/2018/11/05/midterm-elections-battle-bots/', u'author': u'Jonathan Shieber', u'publishedAt': u'2018-11-06T01:30:01Z', u'content': u'The fact that Russian-linked bots penetrated social media to influence the 2016 U.S. presidential election has been well documented and the details of the deception are still trickling out. In fact, on Oct. 17 Twitter disclosed that foreign interference datin\\u2026 [+5896 chars]', u'source': {u'id': u'techcrunch', u'name': u'TechCrunch'}, u'urlToImage': u'https://techcrunch.com/wp-content/uploads/2018/07/Election-Interference-Events.jpg?w=753'}, {u'description': u'With the US midterms fast approaching purveyors of online disinformation are very busy indeed spreading their hyper-partisan junk on Facebook. Their goal: Skewing democratic outcomes by putting out misleading, deceptive or incorrect information that\\u2019s package\\u2026', u'title': u'Tool up for the midterms with this Facebook junk news aggregator', u'url': u'http://techcrunch.com/2018/11/01/tool-up-for-the-midterms-with-this-facebook-junk-news-aggregator/', u'author': u'Natasha Lomas', u'publishedAt': u'2018-11-01T16:20:16Z', u'content': u'With the US midterms fast approaching purveyors of online disinformation are very busy indeed spreading their hyper-partisan junk on Facebook. Their goal: Skewing democratic outcomes by putting out misleading, deceptive or incorrect information that\\u2019s package\\u2026 [+7091 chars]', u'source': {u'id': u'techcrunch', u'name': u'TechCrunch'}, u'urlToImage': u'https://techcrunch.com/wp-content/uploads/2018/11/Screen-Shot-2018-11-01-at-14.59.52.png?w=764'}, {u'description': u'An analysis of political advertisers running extensive campaigns on Facebook targeting users in the United States over the past six months has flagged a raft of fresh concerns about its efforts to tackle election interference \\u2014 suggesting the social network\\u2019s\\u2026', u'title': u'Facebook\\u2019s election interference problem exponentially worse on eve of midterms, study suggests', u'url': u'http://techcrunch.com/2018/11/05/facebooks-election-interference-problem-exponentially-worse-on-eve-of-midterms-study-suggests/', u'author': u'Natasha Lomas', u'publishedAt': u'2018-11-05T15:45:39Z', u'content': u'An analysis of political advertisers running extensive campaigns on Facebook targeting users in the United States over the past six months has flagged a raft of fresh concerns about its efforts to tackle election interference \\u2014 suggesting the social network\\u2019s\\u2026 [+15885 chars]', u'source': {u'id': u'techcrunch', u'name': u'TechCrunch'}, u'urlToImage': u'https://techcrunch.com/wp-content/uploads/2018/04/gettyimages-944204706.jpeg?w=601'}, {u'description': u'Facebook has hired Nick Clegg, the former UK deputy prime minister, as head of global affairs and communications. Clegg isn\\u2019t very well-regarded in his home country, but Facebook apparently feels he\\u2019s the man for the job at a time when its influence over poli\\u2026', u'title': u'Facebook Hires Former UK Deputy Prime Minister to Head Up Its Political Influence', u'url': u'https://gizmodo.com/facebook-hires-former-uk-deputy-prime-minister-to-head-1829866203', u'author': u'Rhett Jones', u'publishedAt': u'2018-10-19T18:00:00Z', u'content': u'Facebook has hired Nick Clegg, the former UK deputy prime minister, as head of global affairs and communications. Clegg isnt very well-regarded in his home country, but Facebook apparently feels hes the man for the job at a time when its influence over politi\\u2026 [+2854 chars]', u'source': {u'id': None, u'name': u'Gizmodo.com'}, u'urlToImage': u'https://i.kinja-img.com/gawker-media/image/upload/s--HVRHPBrb--/c_fill,fl_progressive,g_center,h_900,q_80,w_1600/q7qjyllcjihb7h8vobbz.jpg'}, {u'description': u'Some people are warning of possible food rationing, medicine shortages and civil disorder if no deal is struck with the European Union. Brexit supporters call that fear-mongering.', u'title': u'U.K.\\u2019s \\u2018Brexit Preppers\\u2019 Stock Up on Supplies, Preparing for E.U. Exit', u'url': u'https://www.nytimes.com/2018/10/16/world/europe/brexit-preppers-united-kingdom.html', u'author': u'STEPHEN CASTLE', u'publishedAt': u'2018-10-16T14:12:09Z', u'content': u'When Howard Hardiman, an artist who lives on a remote Scottish island, wrote on Twitter that he was stockpiling because he lives at the end of the supply chain, he drew abuse online from supporters of Britains departure from the bloc. The government has repea\\u2026 [+1843 chars]', u'source': {u'id': u'the-new-york-times', u'name': u'The New York Times'}, u'urlToImage': u'https://static01.nyt.com/images/2018/10/16/world/europe/16Prepper1/16Prepper1-facebookJumbo.jpg'}, {u'description': u'Here\\u2019s what you need to know to start your day.', u'title': u'Europe Edition: Saudi Arabia, Brexit, Meghan Markle: Your Tuesday Briefing', u'url': u'https://www.nytimes.com/2018/10/16/briefing/saudi-arabia-brexit-meghan-markle.html', u'author': u'PENN BULLOCK', u'publishedAt': u'2018-10-16T04:24:02Z', u'content': u'But good news from Belgium: Pierre Kompany, 71, was elected the countrys first black mayor. [ The New York Times ] The results of a state election in Bavaria may worry Chancellor Angela Merkel of Germany, but analysts say they signal a healthy democracy. [ Th\\u2026 [+799 chars]', u'source': {u'id': u'the-new-york-times', u'name': u'The New York Times'}, u'urlToImage': u'https://static01.nyt.com/images/2018/10/16/briefing/10162018ameuro-briefing-promo/10162018ameuro-briefing-slide-BOEA-facebookJumbo.jpg'}, {u'description': u'Here\\u2019s what you need to know to start your day.', u'title': u'Europe Edition: Bavaria, Saudi Arabia, Brexit: Your Monday Briefing', u'url': u'https://www.nytimes.com/2018/10/15/briefing/bavaria-saudi-arabia-brexit.html', u'author': u'PENN BULLOCK', u'publishedAt': u'2018-10-15T05:45:54Z', u'content': u'Pope Francis canonized seven new saints, including Archbishop \\xd3scar Romero, in portrait above left, who was gunned down in El Salvador by a right-wing death squad 38 years ago, and Pope Paul VI, above right, who is credited with modernizing the church in the \\u2026 [+874 chars]', u'source': {u'id': u'the-new-york-times', u'name': u'The New York Times'}, u'urlToImage': u'https://static01.nyt.com/images/2018/10/15/briefing/101518briefing-europe-promo/101518briefing-europe-promo-facebookJumbo.jpg'}, {u'description': u\"In this day and age, you don't need a place in a TV-debate to get your point across. As long as you make sure you're in shot when a famous politician is making a statement, you can let your facial expressions do the talking. SEE ALSO: Meet Aaron Gouveia, the \\u2026\", u'title': u'Student rolls her eyes behind politician during TV debate, goes super viral', u'url': u'https://mashable.com/article/eye-roll-student-nigel-farage-brexit/', u'author': u'Laura Byager', u'publishedAt': u'2018-11-06T12:45:15Z', u'content': u\"In this day and age, you don't need a place in a TV-debate to get your point across. As long as you make sure you're in shot when a famous politician is making a statement, you can let your facial expressions do the talking. SEE ALSO: Meet Aaron Gouveia, the \\u2026 [+1849 chars]\", u'source': {u'id': u'mashable', u'name': u'Mashable'}, u'urlToImage': u'https://i.amz.mshcdn.com/JSEjKE1xJfiyvEptBgbakw9bXbA=/1200x630/2018%2F11%2F06%2Fd4%2Fc276603e62304007885696c41181f6af.ba2ae.jpg'}, {u'description': u'Here\\u2019s what you need to know to start your day.', u'title': u'Europe Edition: Elections, Brexit, Facebook: Your Wednesday Briefing', u'url': u'https://www.nytimes.com/2018/11/07/briefing/elections-brexit-facebook.html', u'author': u'PENN BULLOCK', u'publishedAt': u'2018-11-07T05:44:10Z', u'content': u'We finally reviewed the 1978 horror classic Halloween last month, which got us thinking about the newspaper strike in New York City that prevented coverage of the movies release at the time. Forty years ago, The New York Times was just resuming publication af\\u2026 [+1183 chars]', u'source': {u'id': u'the-new-york-times', u'name': u'The New York Times'}, u'urlToImage': u'https://static01.nyt.com/images/2018/11/08/autossell/08EURO2-promo/merlin_146435796_536941e3-fe64-43b9-a30c-13f386aae1ee-facebookJumbo.jpg'}, {u'description': u'Here\\u2019s what you need to know to start your day.', u'title': u'Europe Edition: Saudi Arabia, Brexit, Anna Burns: Your Wednesday Briefing', u'url': u'https://www.nytimes.com/2018/10/17/briefing/saudi-arabia-brexit-anna-burns.html', u'author': u'PENN BULLOCK', u'publishedAt': u'2018-10-17T04:07:50Z', u'content': u'But Murray was also a poet, and today is Black Poetry Day, observed by many schools and libraries in the U.S. Orphaned young and raised by an aunt in Durham, North Carolina, Murray grew up reading Paul Laurence Dunbar, one of the first famous African-American\\u2026 [+1043 chars]', u'source': {u'id': u'the-new-york-times', u'name': u'The New York Times'}, u'urlToImage': u'https://static01.nyt.com/images/2018/10/16/briefing/10172018Briefing-asia-promo/17Briefing-asia-slide-SSQ3-facebookJumbo.jpg'}, {u'description': u'Here\\u2019s what you need to know to start your day.', u'title': u'Europe Edition: President Trump, Saudi Arabia, Brexit: Your Friday Briefing', u'url': u'https://www.nytimes.com/2018/11/02/briefing/president-trump-saudi-arabia-brexit.html', u'author': u'PENN BULLOCK', u'publishedAt': u'2018-11-02T05:14:38Z', u'content': u'North Korean women who work in the countrys growing markets are often preyed on by officials demanding sexual favors, Human Rights Watch researchers found. Above, a silk factory in Pyongyang. [ The New York Times ] The British police are investigating whether\\u2026 [+1080 chars]', u'source': {u'id': u'the-new-york-times', u'name': u'The New York Times'}, u'urlToImage': u'https://static01.nyt.com/images/2018/11/02/briefing/11022018-ambriefing-euro-slide-GLUX/11022018-ambriefing-euro-slide-GLUX-facebookJumbo.jpg'}, {u'description': u'An installation view of \\u201cSarah Lucas: Au Naturel\\u201d at the New Museum. The wall-size images convey the artist\\u2019s swagger, bravado and confidence, and \\u201cThis Jaguar\\u2019s Going to Heaven\\u201d (2018), foreground, consists of a severed 2003 Jaguar X-Type collaged with cigar\\u2026', u'title': u'Critic\\u2019s Pick: Is Sarah Lucas Right for the #MeToo Moment?', u'url': u'https://www.nytimes.com/2018/10/16/arts/design/sarah-lucas-review-new-museum-art.html', u'author': u'MARTHA SCHWENDENER', u'publishedAt': u'2018-10-16T19:41:03Z', u'content': u'In this era, post-Brexit, when thousands of people have died in recent years attempting to reach the safety of shabby London or any toehold in Western Europe the message here, of being white and bored and disaffected, feels dissonant. A video made in 2015, wh\\u2026 [+1378 chars]', u'source': {u'id': u'the-new-york-times', u'name': u'The New York Times'}, u'urlToImage': u'https://static01.nyt.com/images/2018/10/19/arts/19sarahlucas1/19sarahlucas1-facebookJumbo.jpg'}, {u'description': u'Hear tracks from Maggie Rogers, Julia Holter, Tyler, the Creator and others.', u'title': u'Playlist: The Playlist: Cardi B Hits Pay Dirt, and 11 More New Songs', u'url': u'https://www.nytimes.com/2018/10/26/arts/music/playlist-cardi-b-lauren-jauregui-xxxtentacion-lil-pump.html', u'author': u'JON PARELES, JON CARAMANICA and GIOVANNI RUSSONELLO', u'publishedAt': u'2018-10-26T16:29:35Z', u'content': u'Cardi B released Money, her first solo song since giving birth in July. Credit Valerie Macon/Agence France-Presse Getty Images Whats the opposite of a palate cleanser? Currently, Cardi B is featured on the No. 1 song in the country, Maroon 5s Girls Like You. \\u2026 [+6897 chars]', u'source': {u'id': u'the-new-york-times', u'name': u'The New York Times'}, u'urlToImage': u'https://static01.nyt.com/images/2018/10/27/arts/27playlist/merlin_145092255_160506fb-a0e3-4473-b18d-1886214703f6-facebookJumbo.jpg'}], u'totalResults': 25710}\n"
     ]
    }
   ],
   "source": [
    "json_data=response.json()\n",
    "print(json_data)"
   ]
  },
  {
   "cell_type": "code",
   "execution_count": 132,
   "metadata": {},
   "outputs": [
    {
     "name": "stdout",
     "output_type": "stream",
     "text": [
      "20\n"
     ]
    }
   ],
   "source": [
    "#item_dict = json.loads(response\n",
    "print len(json_data['articles'][0]['publishedAt'])"
   ]
  },
  {
   "cell_type": "code",
   "execution_count": 143,
   "metadata": {},
   "outputs": [
    {
     "name": "stdout",
     "output_type": "stream",
     "text": [
      "          Date                                               News\n",
      "0   2018-10-30  Now U.S. Citizens Can Jump the Epically Long C...\n",
      "1   2018-11-06  Why we shouldn’t cry ‘aliens’ about that inter...\n",
      "2   2018-10-19  New ‘Dark Ads’ pro-Brexit Facebook campaign ma...\n",
      "3   2018-10-18  Amazon says it will add 1,000 more employees i...\n",
      "4   2018-10-25  UK watchdog hands Facebook maximum $500K fine ...\n",
      "5   2018-10-29  UK chancellor announces 2% ‘digital services t...\n",
      "6   2018-11-01  Campaign tool supplied to UK’s governing party...\n",
      "7   2018-11-06  Bots Distorted the 2016 Election. Will the Mid...\n",
      "8   2018-11-01  Tool up for the midterms with this Facebook ju...\n",
      "9   2018-11-05  Facebook’s election interference problem expon...\n",
      "10  2018-10-19  Facebook Hires Former UK Deputy Prime Minister...\n",
      "11  2018-10-16  U.K.’s ‘Brexit Preppers’ Stock Up on Supplies,...\n",
      "12  2018-10-16  Europe Edition: Saudi Arabia, Brexit, Meghan M...\n",
      "13  2018-10-15  Europe Edition: Bavaria, Saudi Arabia, Brexit:...\n",
      "14  2018-11-06  Student rolls her eyes behind politician durin...\n",
      "15  2018-11-07  Europe Edition: Elections, Brexit, Facebook: Y...\n",
      "16  2018-10-17  Europe Edition: Saudi Arabia, Brexit, Anna Bur...\n",
      "17  2018-11-02  Europe Edition: President Trump, Saudi Arabia,...\n",
      "18  2018-10-16  Critic’s Pick: Is Sarah Lucas Right for the #M...\n",
      "19  2018-10-26  Playlist: The Playlist: Cardi B Hits Pay Dirt,...\n"
     ]
    }
   ],
   "source": [
    "df = pd.DataFrame(columns=['Date','News'])\n",
    "for i in range(len(json_data['articles'][0]['publishedAt'])):\n",
    "    publishedAt=json_data['articles'][i]['publishedAt']\n",
    "    title=json_data['articles'][i]['title']\n",
    "    final=publishedAt+title\n",
    "    df = df.append({'Date': publishedAt.split('T')[0], 'News':title}, ignore_index=True)\n",
    "#print(df)\n",
    "print(df)\n",
    "\n"
   ]
  },
  {
   "cell_type": "code",
   "execution_count": 145,
   "metadata": {},
   "outputs": [],
   "source": [
    "df.to_csv(\"C:\\\\Users\\\\Yash\\\\MSc\\\\Repeat\\\\one.csv\", encoding='utf-8')"
   ]
  },
  {
   "cell_type": "code",
   "execution_count": 100,
   "metadata": {},
   "outputs": [
    {
     "ename": "IndexError",
     "evalue": "list assignment index out of range",
     "output_type": "error",
     "traceback": [
      "\u001b[1;31m---------------------------------------------------------------------------\u001b[0m",
      "\u001b[1;31mIndexError\u001b[0m                                Traceback (most recent call last)",
      "\u001b[1;32m<ipython-input-100-f5750198517f>\u001b[0m in \u001b[0;36m<module>\u001b[1;34m()\u001b[0m\n\u001b[0;32m      3\u001b[0m     \u001b[0mpublishedAt\u001b[0m\u001b[1;33m=\u001b[0m\u001b[0mjson_data\u001b[0m\u001b[1;33m[\u001b[0m\u001b[1;34m'articles'\u001b[0m\u001b[1;33m]\u001b[0m\u001b[1;33m[\u001b[0m\u001b[0mi\u001b[0m\u001b[1;33m]\u001b[0m\u001b[1;33m[\u001b[0m\u001b[1;34m'publishedAt'\u001b[0m\u001b[1;33m]\u001b[0m\u001b[1;33m\u001b[0m\u001b[0m\n\u001b[0;32m      4\u001b[0m     \u001b[0mtitle\u001b[0m\u001b[1;33m=\u001b[0m\u001b[0mjson_data\u001b[0m\u001b[1;33m[\u001b[0m\u001b[1;34m'articles'\u001b[0m\u001b[1;33m]\u001b[0m\u001b[1;33m[\u001b[0m\u001b[0mi\u001b[0m\u001b[1;33m]\u001b[0m\u001b[1;33m[\u001b[0m\u001b[1;34m'title'\u001b[0m\u001b[1;33m]\u001b[0m\u001b[1;33m\u001b[0m\u001b[0m\n\u001b[1;32m----> 5\u001b[1;33m     \u001b[0mfinal\u001b[0m\u001b[1;33m[\u001b[0m\u001b[0mi\u001b[0m\u001b[1;33m]\u001b[0m\u001b[1;33m=\u001b[0m\u001b[0mpublishedAt\u001b[0m\u001b[1;33m+\u001b[0m\u001b[0mtitle\u001b[0m\u001b[1;33m\u001b[0m\u001b[0m\n\u001b[0m\u001b[0;32m      6\u001b[0m \u001b[1;33m\u001b[0m\u001b[0m\n\u001b[0;32m      7\u001b[0m \u001b[1;32mprint\u001b[0m\u001b[1;33m(\u001b[0m\u001b[0mfinal\u001b[0m\u001b[1;33m[\u001b[0m\u001b[1;36m1\u001b[0m\u001b[1;33m]\u001b[0m\u001b[1;33m)\u001b[0m\u001b[1;33m\u001b[0m\u001b[0m\n",
      "\u001b[1;31mIndexError\u001b[0m: list assignment index out of range"
     ]
    }
   ],
   "source": [
    "final= []\n",
    "for i in range(0,20):\n",
    "    publishedAt=json_data['articles'][i]['publishedAt']\n",
    "    title=json_data['articles'][i]['title']\n",
    "    final[i]=publishedAt+title\n",
    "\n",
    "print(final[1])\n",
    "\n",
    "    \n"
   ]
  },
  {
   "cell_type": "code",
   "execution_count": 77,
   "metadata": {},
   "outputs": [],
   "source": [
    "import io, json\n",
    "with io.open('data.json', 'w', encoding='utf-8') as f:\n",
    "  f.write(json.dumps(response.json(), ensure_ascii=False))"
   ]
  },
  {
   "cell_type": "code",
   "execution_count": 42,
   "metadata": {},
   "outputs": [
    {
     "data": {
      "text/plain": [
       "'{\"status\": \"ok\"}'"
      ]
     },
     "execution_count": 42,
     "metadata": {},
     "output_type": "execute_result"
    }
   ],
   "source": [
    "json.dumps({'status': 'ok'})"
   ]
  },
  {
   "cell_type": "code",
   "execution_count": 80,
   "metadata": {},
   "outputs": [
    {
     "ename": "NameError",
     "evalue": "global name 'os' is not defined",
     "output_type": "error",
     "traceback": [
      "\u001b[1;31m---------------------------------------------------------------------------\u001b[0m",
      "\u001b[1;31mNameError\u001b[0m                                 Traceback (most recent call last)",
      "\u001b[1;32m<ipython-input-80-8c9c7ce1783a>\u001b[0m in \u001b[0;36m<module>\u001b[1;34m()\u001b[0m\n\u001b[0;32m     18\u001b[0m \u001b[1;33m\u001b[0m\u001b[0m\n\u001b[0;32m     19\u001b[0m \u001b[1;33m\u001b[0m\u001b[0m\n\u001b[1;32m---> 20\u001b[1;33m \u001b[0mData\u001b[0m \u001b[1;33m=\u001b[0m \u001b[0mloadJsonData\u001b[0m\u001b[1;33m(\u001b[0m\u001b[0mjson_sub_directories\u001b[0m\u001b[1;33m,\u001b[0m \u001b[0mpath_to_json\u001b[0m\u001b[1;33m)\u001b[0m\u001b[1;33m\u001b[0m\u001b[0m\n\u001b[0m\u001b[0;32m     21\u001b[0m \u001b[0mcnt\u001b[0m \u001b[1;33m=\u001b[0m \u001b[1;36m0\u001b[0m\u001b[1;33m\u001b[0m\u001b[0m\n\u001b[0;32m     22\u001b[0m \u001b[0mnewsDateData\u001b[0m \u001b[1;33m=\u001b[0m \u001b[0mlist\u001b[0m\u001b[1;33m(\u001b[0m\u001b[1;33m)\u001b[0m\u001b[1;33m\u001b[0m\u001b[0m\n",
      "\u001b[1;32m<ipython-input-80-8c9c7ce1783a>\u001b[0m in \u001b[0;36mloadJsonData\u001b[1;34m(json_sub_directories, path_to_json)\u001b[0m\n\u001b[0;32m     10\u001b[0m     \u001b[1;32mfor\u001b[0m \u001b[0msubdir\u001b[0m \u001b[1;32min\u001b[0m \u001b[0mjson_sub_directories\u001b[0m\u001b[1;33m:\u001b[0m\u001b[1;33m\u001b[0m\u001b[0m\n\u001b[0;32m     11\u001b[0m         \u001b[0mtargetDir\u001b[0m \u001b[1;33m=\u001b[0m \u001b[0mpath_to_json\u001b[0m \u001b[1;33m+\u001b[0m \u001b[0msubdir\u001b[0m\u001b[1;33m\u001b[0m\u001b[0m\n\u001b[1;32m---> 12\u001b[1;33m         \u001b[0mjson_files\u001b[0m \u001b[1;33m=\u001b[0m \u001b[1;33m[\u001b[0m\u001b[0mpos_json\u001b[0m \u001b[1;32mfor\u001b[0m \u001b[0mpos_json\u001b[0m \u001b[1;32min\u001b[0m \u001b[0mos\u001b[0m\u001b[1;33m.\u001b[0m\u001b[0mlistdir\u001b[0m\u001b[1;33m(\u001b[0m\u001b[0mtargetDir\u001b[0m\u001b[1;33m)\u001b[0m \u001b[1;32mif\u001b[0m \u001b[0mpos_json\u001b[0m\u001b[1;33m.\u001b[0m\u001b[0mendswith\u001b[0m\u001b[1;33m(\u001b[0m\u001b[1;34m\".json\"\u001b[0m\u001b[1;33m)\u001b[0m\u001b[1;33m]\u001b[0m\u001b[1;33m\u001b[0m\u001b[0m\n\u001b[0m\u001b[0;32m     13\u001b[0m         \u001b[1;32mfor\u001b[0m \u001b[0mFile\u001b[0m \u001b[1;32min\u001b[0m \u001b[0mjson_files\u001b[0m\u001b[1;33m:\u001b[0m\u001b[1;33m\u001b[0m\u001b[0m\n\u001b[0;32m     14\u001b[0m             \u001b[0mjsonData\u001b[0m \u001b[1;33m=\u001b[0m \u001b[0mjson\u001b[0m\u001b[1;33m.\u001b[0m\u001b[0mloads\u001b[0m\u001b[1;33m(\u001b[0m\u001b[0mopen\u001b[0m\u001b[1;33m(\u001b[0m\u001b[0mtargetDir\u001b[0m \u001b[1;33m+\u001b[0m \u001b[1;34m\"\\\\\"\u001b[0m \u001b[1;33m+\u001b[0m \u001b[0mFile\u001b[0m\u001b[1;33m,\u001b[0m \u001b[0mencoding\u001b[0m\u001b[1;33m=\u001b[0m\u001b[1;34m'utf-8'\u001b[0m\u001b[1;33m)\u001b[0m\u001b[1;33m.\u001b[0m\u001b[0mread\u001b[0m\u001b[1;33m(\u001b[0m\u001b[1;33m)\u001b[0m\u001b[1;33m)\u001b[0m\u001b[1;33m\u001b[0m\u001b[0m\n",
      "\u001b[1;31mNameError\u001b[0m: global name 'os' is not defined"
     ]
    }
   ],
   "source": [
    "path_to_json = \"C:\\\\Users\\\\Yash\\\\MSc\\\\Repeat\"\n",
    "\n",
    "json_sub_directories = {\"Sample try\"\n",
    "                        }\n",
    "Data = []\n",
    "\n",
    "# Load articles from json files into environment\n",
    "def loadJsonData(json_sub_directories, path_to_json):\n",
    "    for subdir in json_sub_directories:\n",
    "        targetDir = path_to_json + subdir\n",
    "        json_files = [pos_json for pos_json in os.listdir(targetDir) if pos_json.endswith(\".json\")]\n",
    "        for File in json_files:\n",
    "            jsonData = json.loads(open(targetDir + \"\\\\\" + File, encoding='utf-8').read())\n",
    "            Data.append(jsonData)\n",
    "        sortedData = sorted(Data, key=itemgetter('published'))\n",
    "    return sortedData;\n",
    "\n",
    "\n",
    "Data = loadJsonData(json_sub_directories, path_to_json)\n",
    "cnt = 0\n",
    "newsDateData = list()\n",
    "for obj in Data:\n",
    "   newsDateData.append([obj['uuid'], obj['published'].split('T')[0], obj['title'], obj['text'], obj['thread']['site'],obj['thread']['site_type'],obj['thread']['domain_rank']])\n",
    "newsDateData = pd.DataFrame(newsDateData, columns=['uuid', 'published', 'title', 'text','site','site_type','domain_rank'])"
   ]
  },
  {
   "cell_type": "code",
   "execution_count": 86,
   "metadata": {},
   "outputs": [
    {
     "ename": "NameError",
     "evalue": "name 'itemgetter' is not defined",
     "output_type": "error",
     "traceback": [
      "\u001b[1;31m---------------------------------------------------------------------------\u001b[0m",
      "\u001b[1;31mNameError\u001b[0m                                 Traceback (most recent call last)",
      "\u001b[1;32m<ipython-input-86-d6b817df5194>\u001b[0m in \u001b[0;36m<module>\u001b[1;34m()\u001b[0m\n\u001b[0;32m      1\u001b[0m \u001b[1;31m#jsonData = json.loads(\"Data.json\", encoding='utf-8').read())\u001b[0m\u001b[1;33m\u001b[0m\u001b[1;33m\u001b[0m\u001b[0m\n\u001b[0;32m      2\u001b[0m \u001b[0mData\u001b[0m\u001b[1;33m.\u001b[0m\u001b[0mappend\u001b[0m\u001b[1;33m(\u001b[0m\u001b[0mjson_data\u001b[0m\u001b[1;33m)\u001b[0m\u001b[1;33m\u001b[0m\u001b[0m\n\u001b[1;32m----> 3\u001b[1;33m \u001b[0msortedData\u001b[0m \u001b[1;33m=\u001b[0m \u001b[0msorted\u001b[0m\u001b[1;33m(\u001b[0m\u001b[0mData\u001b[0m\u001b[1;33m,\u001b[0m \u001b[0mkey\u001b[0m\u001b[1;33m=\u001b[0m\u001b[0mitemgetter\u001b[0m\u001b[1;33m(\u001b[0m\u001b[1;34m'publishedAt'\u001b[0m\u001b[1;33m)\u001b[0m\u001b[1;33m)\u001b[0m\u001b[1;33m\u001b[0m\u001b[0m\n\u001b[0m\u001b[0;32m      4\u001b[0m \u001b[1;31m# Data = []\u001b[0m\u001b[1;33m\u001b[0m\u001b[1;33m\u001b[0m\u001b[0m\n\u001b[0;32m      5\u001b[0m \u001b[1;31m# Data = loadJsonData(json_sub_directories, path_to_json)\u001b[0m\u001b[1;33m\u001b[0m\u001b[1;33m\u001b[0m\u001b[0m\n",
      "\u001b[1;31mNameError\u001b[0m: name 'itemgetter' is not defined"
     ]
    }
   ],
   "source": [
    "#jsonData = json.loads(\"Data.json\", encoding='utf-8').read())\n",
    "Data.append(json_data)\n",
    "sortedData = sorted(Data, key=itemgetter('publishedAt'))\n",
    "# Data = []\n",
    "# Data = loadJsonData(json_sub_directories, path_to_json)\n",
    "# cnt = 0\n",
    "# newsDateData = list()\n",
    "# for obj in Data:\n",
    "#    newsDateData.append(obj['published'].split('T')[0], obj['title'])\n",
    "# newsDateData = pd.DataFrame(newsDateData, columns=['published', 'title'])"
   ]
  }
 ],
 "metadata": {
  "kernelspec": {
   "display_name": "Python 2",
   "language": "python",
   "name": "python2"
  },
  "language_info": {
   "codemirror_mode": {
    "name": "ipython",
    "version": 2
   },
   "file_extension": ".py",
   "mimetype": "text/x-python",
   "name": "python",
   "nbconvert_exporter": "python",
   "pygments_lexer": "ipython2",
   "version": "2.7.14"
  }
 },
 "nbformat": 4,
 "nbformat_minor": 2
}
